{
  "nbformat": 4,
  "nbformat_minor": 0,
  "metadata": {
    "colab": {
      "provenance": [],
      "authorship_tag": "ABX9TyNBmCGSv5qfMDVlWDV61sIg",
      "include_colab_link": true
    },
    "kernelspec": {
      "name": "python3",
      "display_name": "Python 3"
    },
    "language_info": {
      "name": "python"
    }
  },
  "cells": [
    {
      "cell_type": "markdown",
      "metadata": {
        "id": "view-in-github",
        "colab_type": "text"
      },
      "source": [
        "<a href=\"https://colab.research.google.com/github/cheryl-toh/Cheryls-ETL-Pipelines/blob/main/Cheryl_ETL_Pipelines.ipynb\" target=\"_parent\"><img src=\"https://colab.research.google.com/assets/colab-badge.svg\" alt=\"Open In Colab\"/></a>"
      ]
    },
    {
      "cell_type": "code",
      "execution_count": null,
      "metadata": {
        "id": "ZpLguKXyPdYU"
      },
      "outputs": [],
      "source": [
        "!pip install requests"
      ]
    },
    {
      "cell_type": "code",
      "source": [
        "import os\n",
        "\n",
        "GITHUB_TOKEN = \"your_github_personal_access_token\"\n",
        "REPO_OWNER = \"your_github_username\"\n",
        "REPO_NAME = \"your_repo_name\"\n",
        "\n",
        "os.system(f\"git clone https://{GITHUB_TOKEN}@github.com/{REPO_OWNER}/{REPO_NAME}.git\")\n"
      ],
      "metadata": {
        "id": "ZnZXo8LGP04R"
      },
      "execution_count": null,
      "outputs": []
    }
  ]
}